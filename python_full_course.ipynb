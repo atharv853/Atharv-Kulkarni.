{
  "nbformat": 4,
  "nbformat_minor": 0,
  "metadata": {
    "colab": {
      "provenance": [],
      "authorship_tag": "ABX9TyO7Lnh+1j/R3kvQg0RERYRr",
      "include_colab_link": true
    },
    "kernelspec": {
      "name": "python3",
      "display_name": "Python 3"
    },
    "language_info": {
      "name": "python"
    }
  },
  "cells": [
    {
      "cell_type": "markdown",
      "metadata": {
        "id": "view-in-github",
        "colab_type": "text"
      },
      "source": [
        "<a href=\"https://colab.research.google.com/github/atharv853/Atharv-Kulkarni./blob/main/python_full_course.ipynb\" target=\"_parent\"><img src=\"https://colab.research.google.com/assets/colab-badge.svg\" alt=\"Open In Colab\"/></a>"
      ]
    },
    {
      "cell_type": "code",
      "source": [
        "# Python was developed\n",
        " by GUIDO VAN ROSSUM"
      ],
      "metadata": {
        "id": "2qTk8ARjrN9F"
      },
      "execution_count": null,
      "outputs": []
    },
    {
      "cell_type": "code",
      "execution_count": null,
      "metadata": {
        "colab": {
          "base_uri": "https://localhost:8080/"
        },
        "id": "ni3pz0dMpEbT",
        "outputId": "4e373322-adef-4922-a65d-be4bc8ab2952"
      },
      "outputs": [
        {
          "output_type": "stream",
          "name": "stdout",
          "text": [
            "Hello World\n"
          ]
        }
      ],
      "source": [
        "print(\"Hello World\")"
      ]
    },
    {
      "cell_type": "code",
      "source": [
        "\n",
        "#comma seperated line continues in one line\n",
        "print(\"my name is Atharv\",\"welcome\")"
      ],
      "metadata": {
        "id": "y_LYZBWSrcYT",
        "colab": {
          "base_uri": "https://localhost:8080/"
        },
        "outputId": "0c53b860-e12b-483a-f64f-646526e9f6af"
      },
      "execution_count": null,
      "outputs": [
        {
          "output_type": "stream",
          "name": "stdout",
          "text": [
            "my name is Atharv welcome\n"
          ]
        }
      ]
    },
    {
      "cell_type": "code",
      "source": [
        "print(21)"
      ],
      "metadata": {
        "colab": {
          "base_uri": "https://localhost:8080/"
        },
        "id": "5Tw-TCJzZEx0",
        "outputId": "c04f9a11-c061-4e4e-aca0-c4dd28706dd3"
      },
      "execution_count": null,
      "outputs": [
        {
          "output_type": "stream",
          "name": "stdout",
          "text": [
            "21\n"
          ]
        }
      ]
    },
    {
      "cell_type": "code",
      "source": [
        "print(30-20)"
      ],
      "metadata": {
        "colab": {
          "base_uri": "https://localhost:8080/"
        },
        "id": "ELmldy_RZHL0",
        "outputId": "abf74873-ab29-46de-b1e4-ce751eeadcf6"
      },
      "execution_count": null,
      "outputs": [
        {
          "output_type": "stream",
          "name": "stdout",
          "text": [
            "10\n"
          ]
        }
      ]
    },
    {
      "cell_type": "code",
      "source": [
        "print(10*10)"
      ],
      "metadata": {
        "colab": {
          "base_uri": "https://localhost:8080/"
        },
        "id": "EtYl3IFSZRkP",
        "outputId": "cd5c129b-0b9e-43b8-f089-3c3f2521b85b"
      },
      "execution_count": null,
      "outputs": [
        {
          "output_type": "stream",
          "name": "stdout",
          "text": [
            "100\n"
          ]
        }
      ]
    },
    {
      "cell_type": "markdown",
      "source": [
        "Chapter 1 -Variables"
      ],
      "metadata": {
        "id": "HFFxOwL2rVbA"
      }
    },
    {
      "cell_type": "code",
      "source": [
        "#variables means data which vary."
      ],
      "metadata": {
        "id": "FZFCHyYhZMLi"
      },
      "execution_count": null,
      "outputs": []
    },
    {
      "cell_type": "code",
      "source": [
        "name=\"Atharv\" #word written in double coats is string it should be written in double coats only\n",
        "age=18        #This is INTEGER\n",
        "price=23.97   #This is float value\n",
        "boolean=True  #capital at start is imp\n",
        "a=None        #capital at start is imp\n",
        "print(\"My name is\",name)\n",
        "print(\"My age is\",age)\n",
        "print(\"My price is\",price)\n",
        "print(boolean)\n",
        "print(a)"
      ],
      "metadata": {
        "colab": {
          "base_uri": "https://localhost:8080/"
        },
        "id": "-FDDzk93ZMOW",
        "outputId": "e3387648-5a9e-4887-a2e6-7a9146807534"
      },
      "execution_count": null,
      "outputs": [
        {
          "output_type": "stream",
          "name": "stdout",
          "text": [
            "My name is Atharv\n",
            "My age is 18\n",
            "My price is 23.97\n",
            "True\n",
            "None\n"
          ]
        }
      ]
    },
    {
      "cell_type": "code",
      "source": [
        "# In python =is called assign operator where value stores from right to left\n",
        "age2=age\n",
        "print(age2)"
      ],
      "metadata": {
        "colab": {
          "base_uri": "https://localhost:8080/"
        },
        "id": "RtUCNgGwc2_G",
        "outputId": "e757352a-b39b-4e4c-fdd6-f571d03e2a18"
      },
      "execution_count": null,
      "outputs": [
        {
          "output_type": "stream",
          "name": "stdout",
          "text": [
            "18\n"
          ]
        }
      ]
    },
    {
      "cell_type": "code",
      "source": [
        "#rules for variables\n",
        "1) a to z\n",
        "2) A to Z\n",
        "3)1 to 9\n",
        "4)_\n",
        "rest all is not allowed"
      ],
      "metadata": {
        "id": "KTBqbOALdfHi"
      },
      "execution_count": null,
      "outputs": []
    },
    {
      "cell_type": "code",
      "source": [
        "\n",
        "#This all are datatypes\n",
        "#1\n",
        "print(type(name)) #can be written in 1 2 3 coats\n",
        "#2\n",
        "print(type(age))\n",
        "#3\n",
        "print(type(price))\n",
        "#4\n",
        "print(type(boolean))\n",
        "#5\n",
        "print(type(a))"
      ],
      "metadata": {
        "colab": {
          "base_uri": "https://localhost:8080/"
        },
        "id": "a7bP0maieBB8",
        "outputId": "bfc7e13e-87a7-40d5-97cb-97343fd00ea5"
      },
      "execution_count": null,
      "outputs": [
        {
          "output_type": "stream",
          "name": "stdout",
          "text": [
            "<class 'str'>\n",
            "<class 'int'>\n",
            "<class 'float'>\n",
            "<class 'bool'>\n",
            "<class 'NoneType'>\n"
          ]
        }
      ]
    },
    {
      "cell_type": "code",
      "source": [],
      "metadata": {
        "id": "bY7ajYg4e0QX"
      },
      "execution_count": null,
      "outputs": []
    },
    {
      "cell_type": "markdown",
      "source": [
        "#Keywords"
      ],
      "metadata": {
        "id": "gxWhkWkElfPo"
      }
    },
    {
      "cell_type": "code",
      "source": [
        "#We cant use keawords as variables\n",
        "False      await      else       import     pass\n",
        "None       break      except     in         raise\n",
        "True       class      finally    is         return\n",
        "and        continue   for        lambda     try\n",
        "as         def        from       nonlocal   while\n",
        "assert     del        global     not        with\n",
        "async      elif       if         or         yield"
      ],
      "metadata": {
        "id": "82hp1g2Yliim"
      },
      "execution_count": null,
      "outputs": []
    },
    {
      "cell_type": "code",
      "source": [
        "#python is case sensitive i.e.capital and small are diff."
      ],
      "metadata": {
        "id": "bPwNyAC7L1v9"
      },
      "execution_count": null,
      "outputs": []
    },
    {
      "cell_type": "code",
      "source": [
        "a=1\n",
        "b=5\n",
        "c=a+b\n",
        "print(c)"
      ],
      "metadata": {
        "colab": {
          "base_uri": "https://localhost:8080/"
        },
        "id": "OwTtNr_XMau5",
        "outputId": "5bddd645-a918-4e7c-eeba-2500ef751fef"
      },
      "execution_count": null,
      "outputs": [
        {
          "output_type": "stream",
          "name": "stdout",
          "text": [
            "6\n"
          ]
        }
      ]
    },
    {
      "cell_type": "code",
      "source": [],
      "metadata": {
        "id": "4mhOD_3rMsrI"
      },
      "execution_count": null,
      "outputs": []
    },
    {
      "cell_type": "markdown",
      "source": [
        "#Punctuators"
      ],
      "metadata": {
        "id": "FQyCe-W7NIQn"
      }
    },
    {
      "cell_type": "code",
      "source": [
        "# are\n",
        "()\n",
        "[]\n",
        "{}\n",
        "-=\n",
        "+=\n",
        "/=\n",
        "*=\n",
        "="
      ],
      "metadata": {
        "id": "8jTFSgriNMTd"
      },
      "execution_count": null,
      "outputs": []
    },
    {
      "cell_type": "code",
      "source": [
        "#There are two types of languages\n",
        "1)implicit-we dont define type(str,etc.)in code\n",
        "2)explicit - we define"
      ],
      "metadata": {
        "id": "YqU9V7lZNdSQ"
      },
      "execution_count": null,
      "outputs": []
    },
    {
      "cell_type": "code",
      "source": [
        "#PYTHON is implicit language"
      ],
      "metadata": {
        "id": "USSZW-5sOJ20"
      },
      "execution_count": null,
      "outputs": []
    },
    {
      "cell_type": "code",
      "source": [
        "#java is explicit"
      ],
      "metadata": {
        "id": "y6Gy2zmrOPOS"
      },
      "execution_count": null,
      "outputs": []
    },
    {
      "cell_type": "markdown",
      "source": [
        "#Expression Execution"
      ],
      "metadata": {
        "id": "UYITkoLGRrt-"
      }
    },
    {
      "cell_type": "code",
      "source": [
        "#String and numeric values cant operate together\n",
        "it will operate with   *"
      ],
      "metadata": {
        "id": "2_vD_gNkRv72"
      },
      "execution_count": null,
      "outputs": []
    },
    {
      "cell_type": "code",
      "source": [
        "a,b,c=1,2,3\n",
        "print(a)\n",
        "print(b)          #allowed\n",
        "print(c)\n",
        "\n",
        "txt=\"@\"\n",
        "#If we have to multiply txt a b c then\n",
        "print(a*b*c*txt)      #is allowed\n",
        "#6@ is not the ans"
      ],
      "metadata": {
        "colab": {
          "base_uri": "https://localhost:8080/"
        },
        "id": "NqQmR2HESRp6",
        "outputId": "6c549e21-7d91-44f5-c3dc-144b107dc555"
      },
      "execution_count": null,
      "outputs": [
        {
          "output_type": "stream",
          "name": "stdout",
          "text": [
            "1\n",
            "2\n",
            "3\n",
            "@@@@@@\n"
          ]
        }
      ]
    },
    {
      "cell_type": "code",
      "source": [
        "#String and string  can operate with +"
      ],
      "metadata": {
        "id": "Nm4k5D_UTXCj"
      },
      "execution_count": null,
      "outputs": []
    },
    {
      "cell_type": "code",
      "source": [
        "\n",
        "#\"2\" is string\n",
        "#2 is only int\n",
        "\n",
        "''' Rule is when we do + betn strings then they come together'''\n",
        "        #This is called concatenation\n",
        "a,b,c=1,\"2\",3   #2 is string\n",
        "txt=\"@\"\n",
        "print((b+txt)*c)"
      ],
      "metadata": {
        "colab": {
          "base_uri": "https://localhost:8080/"
        },
        "id": "1vtCcmKkThDv",
        "outputId": "61660e2d-1abf-447b-dac9-d4e58fdf0119"
      },
      "execution_count": null,
      "outputs": [
        {
          "output_type": "stream",
          "name": "stdout",
          "text": [
            "2@2@2@\n"
          ]
        }
      ]
    },
    {
      "cell_type": "code",
      "source": [
        "a,b,c=4,5,6\n",
        "print(a+b*c)   #This is valid means only ans will change acco. to BODMAS\n",
        "print((a+b)*c)"
      ],
      "metadata": {
        "colab": {
          "base_uri": "https://localhost:8080/"
        },
        "id": "LL_CRZdJVdW5",
        "outputId": "67376e8b-5dc8-47f4-9c24-00bbb6e76113"
      },
      "execution_count": null,
      "outputs": [
        {
          "output_type": "stream",
          "name": "stdout",
          "text": [
            "34\n",
            "54\n"
          ]
        }
      ]
    },
    {
      "cell_type": "code",
      "source": [
        "# INT*FLOAT=FLOAT\n",
        "# INT/INT=FLOAT"
      ],
      "metadata": {
        "id": "bcyijmt6V3Yz"
      },
      "execution_count": null,
      "outputs": []
    },
    {
      "cell_type": "code",
      "source": [
        "#  // this is int division operator\n",
        "a,b=4,5\n",
        "c=a//b\n",
        "print(c,a/b)\n",
        "\n",
        "'''This int div opr works as rounding off the ans to the before int'''\n",
        "a,b=999,10\n",
        "print(a//b,a/b)\n",
        "\n",
        "\n",
        "\n",
        "\n",
        "\n",
        "\n",
        "\n",
        "\n",
        "\n",
        "\n",
        "\n",
        "\n",
        "\n",
        "#doubt why not 0.0 or 99.0"
      ],
      "metadata": {
        "colab": {
          "base_uri": "https://localhost:8080/"
        },
        "id": "OvAkFthIWMuj",
        "outputId": "3f1f78a4-3ef6-476d-f696-bdfe5fb81eff"
      },
      "execution_count": null,
      "outputs": [
        {
          "output_type": "stream",
          "name": "stdout",
          "text": [
            "0 0.8\n",
            "99 99.9\n"
          ]
        }
      ]
    },
    {
      "cell_type": "code",
      "source": [
        "# this is called floor\n",
        "#means floor gives closest int which is less than or equal to that no\n",
        "'''floor(6.2) 6\n",
        "floor(6)      6\n",
        "floor(5.99)   5\n",
        "'''"
      ],
      "metadata": {
        "id": "Ptdc7eKZXoPP"
      },
      "execution_count": null,
      "outputs": []
    },
    {
      "cell_type": "code",
      "source": [
        "print(11//-2)"
      ],
      "metadata": {
        "colab": {
          "base_uri": "https://localhost:8080/"
        },
        "id": "ge09kXkeXimU",
        "outputId": "c0e0ead1-8888-4598-f635-884e4e080061"
      },
      "execution_count": null,
      "outputs": [
        {
          "output_type": "stream",
          "name": "stdout",
          "text": [
            "-6\n"
          ]
        }
      ]
    },
    {
      "cell_type": "code",
      "source": [
        "# remainder is neg when dino is neg\n",
        "#num    +    -     -    +\n",
        "-----------------------------------\n",
        "#dino   +    -     +    -\n",
        "====================================\n",
        "#rem    +    +     +    -"
      ],
      "metadata": {
        "id": "99aSxkRNYuFg"
      },
      "execution_count": null,
      "outputs": []
    },
    {
      "cell_type": "code",
      "source": [
        "# % this sign is modulo or remainder\n",
        "print(-5%2)\n",
        "print(5%-2)\n",
        "print(-5%-2)\n",
        "print(5%2)\n",
        "\n",
        "\n",
        "\n",
        "\n",
        "\n",
        "\n",
        "\n",
        "\n",
        "\n",
        "\n",
        "\n",
        "\n",
        "\n",
        "\n",
        "\n",
        "\n",
        "\n",
        "\n",
        "\n",
        "\n",
        "\n",
        "\n",
        "#doubt why -- is -"
      ],
      "metadata": {
        "colab": {
          "base_uri": "https://localhost:8080/"
        },
        "id": "5cQtaJV2Z8gl",
        "outputId": "2210d207-6715-49f1-cc5c-4679305dedb5"
      },
      "execution_count": null,
      "outputs": [
        {
          "output_type": "stream",
          "name": "stdout",
          "text": [
            "1\n",
            "-1\n",
            "-1\n",
            "1\n"
          ]
        }
      ]
    },
    {
      "cell_type": "code",
      "source": [],
      "metadata": {
        "id": "VghfX04galhZ"
      },
      "execution_count": null,
      "outputs": []
    },
    {
      "cell_type": "markdown",
      "source": [
        "#INPUT FUN"
      ],
      "metadata": {
        "id": "adG_B5e7b8D2"
      }
    },
    {
      "cell_type": "code",
      "source": [
        "\n",
        "#String input\n",
        "name=input(\"name is  ;\")\n",
        "print(name)"
      ],
      "metadata": {
        "colab": {
          "base_uri": "https://localhost:8080/"
        },
        "id": "9J5EdV0aabVA",
        "outputId": "a4208af6-1cc9-4eee-9af2-2384086b74a0"
      },
      "execution_count": null,
      "outputs": [
        {
          "output_type": "stream",
          "name": "stdout",
          "text": [
            "name is  ;avk\n",
            "avk\n"
          ]
        }
      ]
    },
    {
      "cell_type": "code",
      "source": [
        "# INT input\n",
        "age=int(input(\"age is  ;\"))\n",
        "print(age)"
      ],
      "metadata": {
        "colab": {
          "base_uri": "https://localhost:8080/"
        },
        "id": "3ovvcCD8cUXN",
        "outputId": "7752b39b-c972-4419-bc92-2a5f27d2f937"
      },
      "execution_count": null,
      "outputs": [
        {
          "output_type": "stream",
          "name": "stdout",
          "text": [
            "age is  ;21\n",
            "21\n"
          ]
        }
      ]
    },
    {
      "cell_type": "code",
      "source": [
        "\n",
        "#Float input\n",
        "a=float(input(\"float  is  ;\"))\n",
        "print(a)"
      ],
      "metadata": {
        "colab": {
          "base_uri": "https://localhost:8080/"
        },
        "id": "LlVGkRL8dEKP",
        "outputId": "540603a5-f7a8-48c9-d72b-0f01e268aaf3"
      },
      "execution_count": null,
      "outputs": [
        {
          "output_type": "stream",
          "name": "stdout",
          "text": [
            "float  is  ;99.89\n",
            "99.89\n"
          ]
        }
      ]
    },
    {
      "cell_type": "code",
      "source": [
        "print(\"My name is\",name,\"my age is\",age,\"my float is\",a)"
      ],
      "metadata": {
        "colab": {
          "base_uri": "https://localhost:8080/"
        },
        "id": "t9R91hS2dQ8q",
        "outputId": "a9144e3e-79d9-4242-cb35-4004fdf917be"
      },
      "execution_count": null,
      "outputs": [
        {
          "output_type": "stream",
          "name": "stdout",
          "text": [
            "My name is avk my age is 21 my float is 99.89\n"
          ]
        }
      ]
    }
  ]
}